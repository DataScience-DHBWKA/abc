{
 "cells": [
  {
   "cell_type": "code",
   "execution_count": 1,
   "id": "2f1b580e",
   "metadata": {},
   "outputs": [],
   "source": [
    "import numpy as np # linear algebra\n",
    "import pandas as pd # data processing\n",
    "import seaborn as sns # Plots\n",
    "import matplotlib.pyplot as plt # Plots"
   ]
  },
  {
   "cell_type": "code",
   "execution_count": 2,
   "id": "7ca25ba2",
   "metadata": {},
   "outputs": [
    {
     "data": {
      "text/plain": [
       "'C:\\\\Users\\\\vanes'"
      ]
     },
     "execution_count": 2,
     "metadata": {},
     "output_type": "execute_result"
    }
   ],
   "source": [
    "pwd"
   ]
  },
  {
   "cell_type": "code",
   "execution_count": 3,
   "id": "55d3c5c9",
   "metadata": {},
   "outputs": [],
   "source": [
    "data = pd.read_csv(r'C:\\Users\\vanes\\OneDrive\\Dokumente\\1. Semester\\Data Science\\Projekt\\master.csv')"
   ]
  },
  {
   "cell_type": "code",
   "execution_count": 4,
   "id": "2eeae77f",
   "metadata": {},
   "outputs": [
    {
     "data": {
      "text/html": [
       "<div>\n",
       "<style scoped>\n",
       "    .dataframe tbody tr th:only-of-type {\n",
       "        vertical-align: middle;\n",
       "    }\n",
       "\n",
       "    .dataframe tbody tr th {\n",
       "        vertical-align: top;\n",
       "    }\n",
       "\n",
       "    .dataframe thead th {\n",
       "        text-align: right;\n",
       "    }\n",
       "</style>\n",
       "<table border=\"1\" class=\"dataframe\">\n",
       "  <thead>\n",
       "    <tr style=\"text-align: right;\">\n",
       "      <th></th>\n",
       "      <th>country</th>\n",
       "      <th>year</th>\n",
       "      <th>sex</th>\n",
       "      <th>age</th>\n",
       "      <th>suicides_no</th>\n",
       "      <th>population</th>\n",
       "      <th>suicides/100k pop</th>\n",
       "      <th>country-year</th>\n",
       "      <th>HDI for year</th>\n",
       "      <th>gdp_for_year ($)</th>\n",
       "      <th>gdp_per_capita ($)</th>\n",
       "      <th>generation</th>\n",
       "    </tr>\n",
       "  </thead>\n",
       "  <tbody>\n",
       "    <tr>\n",
       "      <th>0</th>\n",
       "      <td>Albania</td>\n",
       "      <td>1987</td>\n",
       "      <td>male</td>\n",
       "      <td>15-24 years</td>\n",
       "      <td>21.0</td>\n",
       "      <td>312900</td>\n",
       "      <td>6.710000</td>\n",
       "      <td>Albania1987</td>\n",
       "      <td>NaN</td>\n",
       "      <td>2,15,66,24,900</td>\n",
       "      <td>796.000000</td>\n",
       "      <td>Generation X</td>\n",
       "    </tr>\n",
       "    <tr>\n",
       "      <th>1</th>\n",
       "      <td>Albania</td>\n",
       "      <td>1987</td>\n",
       "      <td>male</td>\n",
       "      <td>35-54 years</td>\n",
       "      <td>16.0</td>\n",
       "      <td>308000</td>\n",
       "      <td>5.190000</td>\n",
       "      <td>Albania1987</td>\n",
       "      <td>NaN</td>\n",
       "      <td>2,15,66,24,900</td>\n",
       "      <td>796.000000</td>\n",
       "      <td>Silent</td>\n",
       "    </tr>\n",
       "    <tr>\n",
       "      <th>2</th>\n",
       "      <td>Albania</td>\n",
       "      <td>1987</td>\n",
       "      <td>female</td>\n",
       "      <td>15-24 years</td>\n",
       "      <td>14.0</td>\n",
       "      <td>289700</td>\n",
       "      <td>4.830000</td>\n",
       "      <td>Albania1987</td>\n",
       "      <td>NaN</td>\n",
       "      <td>2,15,66,24,900</td>\n",
       "      <td>796.000000</td>\n",
       "      <td>Generation X</td>\n",
       "    </tr>\n",
       "    <tr>\n",
       "      <th>3</th>\n",
       "      <td>Albania</td>\n",
       "      <td>1987</td>\n",
       "      <td>male</td>\n",
       "      <td>75+ years</td>\n",
       "      <td>1.0</td>\n",
       "      <td>21800</td>\n",
       "      <td>4.590000</td>\n",
       "      <td>Albania1987</td>\n",
       "      <td>NaN</td>\n",
       "      <td>2,15,66,24,900</td>\n",
       "      <td>796.000000</td>\n",
       "      <td>G.I. Generation</td>\n",
       "    </tr>\n",
       "    <tr>\n",
       "      <th>4</th>\n",
       "      <td>Albania</td>\n",
       "      <td>1987</td>\n",
       "      <td>male</td>\n",
       "      <td>25-34 years</td>\n",
       "      <td>9.0</td>\n",
       "      <td>274300</td>\n",
       "      <td>3.280000</td>\n",
       "      <td>Albania1987</td>\n",
       "      <td>NaN</td>\n",
       "      <td>2,15,66,24,900</td>\n",
       "      <td>796.000000</td>\n",
       "      <td>Boomers</td>\n",
       "    </tr>\n",
       "    <tr>\n",
       "      <th>...</th>\n",
       "      <td>...</td>\n",
       "      <td>...</td>\n",
       "      <td>...</td>\n",
       "      <td>...</td>\n",
       "      <td>...</td>\n",
       "      <td>...</td>\n",
       "      <td>...</td>\n",
       "      <td>...</td>\n",
       "      <td>...</td>\n",
       "      <td>...</td>\n",
       "      <td>...</td>\n",
       "      <td>...</td>\n",
       "    </tr>\n",
       "    <tr>\n",
       "      <th>31751</th>\n",
       "      <td>Ukraine</td>\n",
       "      <td>2017</td>\n",
       "      <td>female</td>\n",
       "      <td>75+ years</td>\n",
       "      <td>256.0</td>\n",
       "      <td>44831135</td>\n",
       "      <td>0.571032</td>\n",
       "      <td>Ukraine2017</td>\n",
       "      <td>0.785458</td>\n",
       "      <td>1.12E+11</td>\n",
       "      <td>2638.326055</td>\n",
       "      <td>G.I. Generation</td>\n",
       "    </tr>\n",
       "    <tr>\n",
       "      <th>31752</th>\n",
       "      <td>United Kingdom</td>\n",
       "      <td>2017</td>\n",
       "      <td>female</td>\n",
       "      <td>75+ years</td>\n",
       "      <td>104.0</td>\n",
       "      <td>66058859</td>\n",
       "      <td>0.157435</td>\n",
       "      <td>United Kingdom2017</td>\n",
       "      <td>0.914735</td>\n",
       "      <td>2.70E+12</td>\n",
       "      <td>40857.755580</td>\n",
       "      <td>G.I. Generation</td>\n",
       "    </tr>\n",
       "    <tr>\n",
       "      <th>31753</th>\n",
       "      <td>United States of America</td>\n",
       "      <td>2017</td>\n",
       "      <td>female</td>\n",
       "      <td>75+ years</td>\n",
       "      <td>501.0</td>\n",
       "      <td>325122128</td>\n",
       "      <td>0.154096</td>\n",
       "      <td>United States of America2017</td>\n",
       "      <td>0.918620</td>\n",
       "      <td>1.95E+13</td>\n",
       "      <td>60109.655730</td>\n",
       "      <td>G.I. Generation</td>\n",
       "    </tr>\n",
       "    <tr>\n",
       "      <th>31754</th>\n",
       "      <td>Uruguay</td>\n",
       "      <td>2017</td>\n",
       "      <td>female</td>\n",
       "      <td>75+ years</td>\n",
       "      <td>14.0</td>\n",
       "      <td>3422200</td>\n",
       "      <td>0.409094</td>\n",
       "      <td>Uruguay2017</td>\n",
       "      <td>0.816745</td>\n",
       "      <td>64233966861</td>\n",
       "      <td>18690.893840</td>\n",
       "      <td>G.I. Generation</td>\n",
       "    </tr>\n",
       "    <tr>\n",
       "      <th>31755</th>\n",
       "      <td>Uzbekistan</td>\n",
       "      <td>2017</td>\n",
       "      <td>female</td>\n",
       "      <td>75+ years</td>\n",
       "      <td>3.0</td>\n",
       "      <td>32388600</td>\n",
       "      <td>0.009263</td>\n",
       "      <td>Uzbekistan2017</td>\n",
       "      <td>0.691258</td>\n",
       "      <td>62081323299</td>\n",
       "      <td>1916.764642</td>\n",
       "      <td>G.I. Generation</td>\n",
       "    </tr>\n",
       "  </tbody>\n",
       "</table>\n",
       "<p>31756 rows × 12 columns</p>\n",
       "</div>"
      ],
      "text/plain": [
       "                        country  year     sex          age  suicides_no  \\\n",
       "0                       Albania  1987    male  15-24 years         21.0   \n",
       "1                       Albania  1987    male  35-54 years         16.0   \n",
       "2                       Albania  1987  female  15-24 years         14.0   \n",
       "3                       Albania  1987    male    75+ years          1.0   \n",
       "4                       Albania  1987    male  25-34 years          9.0   \n",
       "...                         ...   ...     ...          ...          ...   \n",
       "31751                   Ukraine  2017  female    75+ years        256.0   \n",
       "31752            United Kingdom  2017  female    75+ years        104.0   \n",
       "31753  United States of America  2017  female    75+ years        501.0   \n",
       "31754                   Uruguay  2017  female    75+ years         14.0   \n",
       "31755                Uzbekistan  2017  female    75+ years          3.0   \n",
       "\n",
       "       population  suicides/100k pop                  country-year  \\\n",
       "0          312900           6.710000                   Albania1987   \n",
       "1          308000           5.190000                   Albania1987   \n",
       "2          289700           4.830000                   Albania1987   \n",
       "3           21800           4.590000                   Albania1987   \n",
       "4          274300           3.280000                   Albania1987   \n",
       "...           ...                ...                           ...   \n",
       "31751    44831135           0.571032                   Ukraine2017   \n",
       "31752    66058859           0.157435            United Kingdom2017   \n",
       "31753   325122128           0.154096  United States of America2017   \n",
       "31754     3422200           0.409094                   Uruguay2017   \n",
       "31755    32388600           0.009263                Uzbekistan2017   \n",
       "\n",
       "       HDI for year  gdp_for_year ($)   gdp_per_capita ($)       generation  \n",
       "0               NaN     2,15,66,24,900          796.000000     Generation X  \n",
       "1               NaN     2,15,66,24,900          796.000000           Silent  \n",
       "2               NaN     2,15,66,24,900          796.000000     Generation X  \n",
       "3               NaN     2,15,66,24,900          796.000000  G.I. Generation  \n",
       "4               NaN     2,15,66,24,900          796.000000          Boomers  \n",
       "...             ...                ...                 ...              ...  \n",
       "31751      0.785458           1.12E+11         2638.326055  G.I. Generation  \n",
       "31752      0.914735           2.70E+12        40857.755580  G.I. Generation  \n",
       "31753      0.918620           1.95E+13        60109.655730  G.I. Generation  \n",
       "31754      0.816745        64233966861        18690.893840  G.I. Generation  \n",
       "31755      0.691258        62081323299         1916.764642  G.I. Generation  \n",
       "\n",
       "[31756 rows x 12 columns]"
      ]
     },
     "metadata": {},
     "output_type": "display_data"
    }
   ],
   "source": [
    "display(data)"
   ]
  },
  {
   "cell_type": "code",
   "execution_count": 5,
   "id": "4c043b63",
   "metadata": {},
   "outputs": [
    {
     "data": {
      "text/plain": [
       "(31756, 12)"
      ]
     },
     "execution_count": 5,
     "metadata": {},
     "output_type": "execute_result"
    }
   ],
   "source": [
    "data.shape "
   ]
  },
  {
   "cell_type": "code",
   "execution_count": 6,
   "id": "700f83d6",
   "metadata": {},
   "outputs": [
    {
     "name": "stdout",
     "output_type": "stream",
     "text": [
      "Index(['country', 'year', 'sex', 'age', 'suicides_no', 'population',\n",
      "       'suicides/100k pop', 'country-year', 'HDI for year',\n",
      "       ' gdp_for_year ($) ', 'gdp_per_capita ($)', 'generation'],\n",
      "      dtype='object')\n"
     ]
    }
   ],
   "source": [
    "print(data.columns)"
   ]
  },
  {
   "cell_type": "code",
   "execution_count": 7,
   "id": "70be8278",
   "metadata": {},
   "outputs": [
    {
     "name": "stdout",
     "output_type": "stream",
     "text": [
      "<class 'pandas.core.series.Series'>\n",
      "RangeIndex: 31756 entries, 0 to 31755\n",
      "Series name:  gdp_for_year ($) \n",
      "Non-Null Count  Dtype \n",
      "--------------  ----- \n",
      "31756 non-null  object\n",
      "dtypes: object(1)\n",
      "memory usage: 248.2+ KB\n"
     ]
    }
   ],
   "source": [
    "a = data[' gdp_for_year ($) ']\n",
    "a.info()"
   ]
  },
  {
   "cell_type": "code",
   "execution_count": 8,
   "id": "cc647587",
   "metadata": {},
   "outputs": [],
   "source": [
    "dataclean = data.drop(columns = [' gdp_for_year ($) '])"
   ]
  },
  {
   "cell_type": "code",
   "execution_count": 9,
   "id": "e04ef928",
   "metadata": {},
   "outputs": [
    {
     "data": {
      "text/plain": [
       "<Axes: >"
      ]
     },
     "execution_count": 9,
     "metadata": {},
     "output_type": "execute_result"
    },
    {
     "data": {
      "image/png": "[encoded data removed]",
      "text/plain": [
       "<Figure size 640x480 with 1 Axes>"
      ]
     },
     "metadata": {},
     "output_type": "display_data"
    }
   ],
   "source": [
    "sns.heatmap(dataclean.isnull(),yticklabels=False, cbar = False, cmap = 'viridis')"
   ]
  },
  {
   "cell_type": "code",
   "execution_count": 10,
   "id": "5931b211",
   "metadata": {},
   "outputs": [
    {
     "name": "stdout",
     "output_type": "stream",
     "text": [
      "country                   0\n",
      "year                      0\n",
      "sex                       0\n",
      "age                       0\n",
      "suicides_no            1200\n",
      "population                0\n",
      "suicides/100k pop         0\n",
      "country-year              0\n",
      "HDI for year          19456\n",
      "gdp_per_capita ($)        0\n",
      "generation                0\n",
      "dtype: int64\n"
     ]
    }
   ],
   "source": [
    "print(dataclean.isnull().sum())"
   ]
  },
  {
   "cell_type": "code",
   "execution_count": 11,
   "id": "79a90638",
   "metadata": {},
   "outputs": [],
   "source": [
    "dataclean = dataclean.drop(columns = ['HDI for year'])"
   ]
  },
  {
   "cell_type": "code",
   "execution_count": 12,
   "id": "862bf66f",
   "metadata": {},
   "outputs": [
    {
     "name": "stdout",
     "output_type": "stream",
     "text": [
      "<class 'pandas.core.frame.DataFrame'>\n",
      "RangeIndex: 31756 entries, 0 to 31755\n",
      "Data columns (total 10 columns):\n",
      " #   Column              Non-Null Count  Dtype  \n",
      "---  ------              --------------  -----  \n",
      " 0   country             31756 non-null  object \n",
      " 1   year                31756 non-null  int64  \n",
      " 2   sex                 31756 non-null  object \n",
      " 3   age                 31756 non-null  object \n",
      " 4   suicides_no         30556 non-null  float64\n",
      " 5   population          31756 non-null  int64  \n",
      " 6   suicides/100k pop   31756 non-null  float64\n",
      " 7   country-year        31756 non-null  object \n",
      " 8   gdp_per_capita ($)  31756 non-null  float64\n",
      " 9   generation          31756 non-null  object \n",
      "dtypes: float64(3), int64(2), object(5)\n",
      "memory usage: 2.4+ MB\n"
     ]
    }
   ],
   "source": [
    "dataclean.info()"
   ]
  },
  {
   "cell_type": "code",
   "execution_count": 13,
   "id": "00293bef",
   "metadata": {},
   "outputs": [
    {
     "data": {
      "text/html": [
       "<div>\n",
       "<style scoped>\n",
       "    .dataframe tbody tr th:only-of-type {\n",
       "        vertical-align: middle;\n",
       "    }\n",
       "\n",
       "    .dataframe tbody tr th {\n",
       "        vertical-align: top;\n",
       "    }\n",
       "\n",
       "    .dataframe thead th {\n",
       "        text-align: right;\n",
       "    }\n",
       "</style>\n",
       "<table border=\"1\" class=\"dataframe\">\n",
       "  <thead>\n",
       "    <tr style=\"text-align: right;\">\n",
       "      <th></th>\n",
       "      <th>year</th>\n",
       "      <th>suicides_no</th>\n",
       "      <th>population</th>\n",
       "      <th>suicides/100k pop</th>\n",
       "      <th>gdp_per_capita ($)</th>\n",
       "    </tr>\n",
       "  </thead>\n",
       "  <tbody>\n",
       "    <tr>\n",
       "      <th>count</th>\n",
       "      <td>31756.000000</td>\n",
       "      <td>30556.000000</td>\n",
       "      <td>3.175600e+04</td>\n",
       "      <td>31756.000000</td>\n",
       "      <td>31756.000000</td>\n",
       "    </tr>\n",
       "    <tr>\n",
       "      <th>mean</th>\n",
       "      <td>2003.395390</td>\n",
       "      <td>237.136242</td>\n",
       "      <td>7.217454e+06</td>\n",
       "      <td>11.716668</td>\n",
       "      <td>17588.954606</td>\n",
       "    </tr>\n",
       "    <tr>\n",
       "      <th>std</th>\n",
       "      <td>9.760604</td>\n",
       "      <td>867.956107</td>\n",
       "      <td>5.799323e+07</td>\n",
       "      <td>21.590926</td>\n",
       "      <td>19464.861140</td>\n",
       "    </tr>\n",
       "    <tr>\n",
       "      <th>min</th>\n",
       "      <td>1985.000000</td>\n",
       "      <td>0.000000</td>\n",
       "      <td>2.780000e+02</td>\n",
       "      <td>0.000000</td>\n",
       "      <td>251.000000</td>\n",
       "    </tr>\n",
       "    <tr>\n",
       "      <th>25%</th>\n",
       "      <td>1996.000000</td>\n",
       "      <td>3.000000</td>\n",
       "      <td>1.288210e+05</td>\n",
       "      <td>0.370000</td>\n",
       "      <td>3765.000000</td>\n",
       "    </tr>\n",
       "    <tr>\n",
       "      <th>50%</th>\n",
       "      <td>2004.000000</td>\n",
       "      <td>25.000000</td>\n",
       "      <td>5.468325e+05</td>\n",
       "      <td>4.285000</td>\n",
       "      <td>10062.000000</td>\n",
       "    </tr>\n",
       "    <tr>\n",
       "      <th>75%</th>\n",
       "      <td>2011.000000</td>\n",
       "      <td>132.000000</td>\n",
       "      <td>2.908763e+06</td>\n",
       "      <td>14.560000</td>\n",
       "      <td>25622.000000</td>\n",
       "    </tr>\n",
       "    <tr>\n",
       "      <th>max</th>\n",
       "      <td>2020.000000</td>\n",
       "      <td>22338.000000</td>\n",
       "      <td>1.411100e+09</td>\n",
       "      <td>515.092734</td>\n",
       "      <td>126352.000000</td>\n",
       "    </tr>\n",
       "  </tbody>\n",
       "</table>\n",
       "</div>"
      ],
      "text/plain": [
       "               year   suicides_no    population  suicides/100k pop  \\\n",
       "count  31756.000000  30556.000000  3.175600e+04       31756.000000   \n",
       "mean    2003.395390    237.136242  7.217454e+06          11.716668   \n",
       "std        9.760604    867.956107  5.799323e+07          21.590926   \n",
       "min     1985.000000      0.000000  2.780000e+02           0.000000   \n",
       "25%     1996.000000      3.000000  1.288210e+05           0.370000   \n",
       "50%     2004.000000     25.000000  5.468325e+05           4.285000   \n",
       "75%     2011.000000    132.000000  2.908763e+06          14.560000   \n",
       "max     2020.000000  22338.000000  1.411100e+09         515.092734   \n",
       "\n",
       "       gdp_per_capita ($)  \n",
       "count        31756.000000  \n",
       "mean         17588.954606  \n",
       "std          19464.861140  \n",
       "min            251.000000  \n",
       "25%           3765.000000  \n",
       "50%          10062.000000  \n",
       "75%          25622.000000  \n",
       "max         126352.000000  "
      ]
     },
     "execution_count": 13,
     "metadata": {},
     "output_type": "execute_result"
    }
   ],
   "source": [
    "dataclean.describe()"
   ]
  },
  {
   "cell_type": "code",
   "execution_count": 14,
   "id": "d23d8468",
   "metadata": {},
   "outputs": [
    {
     "data": {
      "text/html": [
       "<style type=\"text/css\">\n",
       "#T_6c2a8_row0_col0, #T_6c2a8_row1_col1, #T_6c2a8_row2_col2, #T_6c2a8_row3_col3, #T_6c2a8_row4_col4 {\n",
       "  background-color: #b40426;\n",
       "  color: #f1f1f1;\n",
       "}\n",
       "#T_6c2a8_row0_col1, #T_6c2a8_row0_col3, #T_6c2a8_row3_col0, #T_6c2a8_row3_col2, #T_6c2a8_row3_col4 {\n",
       "  background-color: #3b4cc0;\n",
       "  color: #f1f1f1;\n",
       "}\n",
       "#T_6c2a8_row0_col2 {\n",
       "  background-color: #7699f6;\n",
       "  color: #f1f1f1;\n",
       "}\n",
       "#T_6c2a8_row0_col4 {\n",
       "  background-color: #a1c0ff;\n",
       "  color: #000000;\n",
       "}\n",
       "#T_6c2a8_row1_col0 {\n",
       "  background-color: #5470de;\n",
       "  color: #f1f1f1;\n",
       "}\n",
       "#T_6c2a8_row1_col2 {\n",
       "  background-color: #6788ee;\n",
       "  color: #f1f1f1;\n",
       "}\n",
       "#T_6c2a8_row1_col3 {\n",
       "  background-color: #adc9fd;\n",
       "  color: #000000;\n",
       "}\n",
       "#T_6c2a8_row1_col4, #T_6c2a8_row4_col2 {\n",
       "  background-color: #4b64d5;\n",
       "  color: #f1f1f1;\n",
       "}\n",
       "#T_6c2a8_row2_col0 {\n",
       "  background-color: #84a7fc;\n",
       "  color: #f1f1f1;\n",
       "}\n",
       "#T_6c2a8_row2_col1 {\n",
       "  background-color: #5d7ce6;\n",
       "  color: #f1f1f1;\n",
       "}\n",
       "#T_6c2a8_row2_col3 {\n",
       "  background-color: #4a63d3;\n",
       "  color: #f1f1f1;\n",
       "}\n",
       "#T_6c2a8_row2_col4 {\n",
       "  background-color: #3c4ec2;\n",
       "  color: #f1f1f1;\n",
       "}\n",
       "#T_6c2a8_row3_col1 {\n",
       "  background-color: #97b8ff;\n",
       "  color: #000000;\n",
       "}\n",
       "#T_6c2a8_row4_col0 {\n",
       "  background-color: #b7cff9;\n",
       "  color: #000000;\n",
       "}\n",
       "#T_6c2a8_row4_col1 {\n",
       "  background-color: #506bda;\n",
       "  color: #f1f1f1;\n",
       "}\n",
       "#T_6c2a8_row4_col3 {\n",
       "  background-color: #5977e3;\n",
       "  color: #f1f1f1;\n",
       "}\n",
       "</style>\n",
       "<table id=\"T_6c2a8\">\n",
       "  <thead>\n",
       "    <tr>\n",
       "      <th class=\"blank level0\" >&nbsp;</th>\n",
       "      <th id=\"T_6c2a8_level0_col0\" class=\"col_heading level0 col0\" >year</th>\n",
       "      <th id=\"T_6c2a8_level0_col1\" class=\"col_heading level0 col1\" >suicides_no</th>\n",
       "      <th id=\"T_6c2a8_level0_col2\" class=\"col_heading level0 col2\" >population</th>\n",
       "      <th id=\"T_6c2a8_level0_col3\" class=\"col_heading level0 col3\" >suicides/100k pop</th>\n",
       "      <th id=\"T_6c2a8_level0_col4\" class=\"col_heading level0 col4\" >gdp_per_capita ($)</th>\n",
       "    </tr>\n",
       "  </thead>\n",
       "  <tbody>\n",
       "    <tr>\n",
       "      <th id=\"T_6c2a8_level0_row0\" class=\"row_heading level0 row0\" >year</th>\n",
       "      <td id=\"T_6c2a8_row0_col0\" class=\"data row0 col0\" >1.000000</td>\n",
       "      <td id=\"T_6c2a8_row0_col1\" class=\"data row0 col1\" >-0.013955</td>\n",
       "      <td id=\"T_6c2a8_row0_col2\" class=\"data row0 col2\" >0.143894</td>\n",
       "      <td id=\"T_6c2a8_row0_col3\" class=\"data row0 col3\" >-0.106052</td>\n",
       "      <td id=\"T_6c2a8_row0_col4\" class=\"data row0 col4\" >0.307603</td>\n",
       "    </tr>\n",
       "    <tr>\n",
       "      <th id=\"T_6c2a8_level0_row1\" class=\"row_heading level0 row1\" >suicides_no</th>\n",
       "      <td id=\"T_6c2a8_row1_col0\" class=\"data row1 col0\" >-0.013955</td>\n",
       "      <td id=\"T_6c2a8_row1_col1\" class=\"data row1 col1\" >1.000000</td>\n",
       "      <td id=\"T_6c2a8_row1_col2\" class=\"data row1 col2\" >0.099528</td>\n",
       "      <td id=\"T_6c2a8_row1_col3\" class=\"data row1 col3\" >0.270322</td>\n",
       "      <td id=\"T_6c2a8_row1_col4\" class=\"data row1 col4\" >0.060721</td>\n",
       "    </tr>\n",
       "    <tr>\n",
       "      <th id=\"T_6c2a8_level0_row2\" class=\"row_heading level0 row2\" >population</th>\n",
       "      <td id=\"T_6c2a8_row2_col0\" class=\"data row2 col0\" >0.143894</td>\n",
       "      <td id=\"T_6c2a8_row2_col1\" class=\"data row2 col1\" >0.099528</td>\n",
       "      <td id=\"T_6c2a8_row2_col2\" class=\"data row2 col2\" >1.000000</td>\n",
       "      <td id=\"T_6c2a8_row2_col3\" class=\"data row2 col3\" >-0.049315</td>\n",
       "      <td id=\"T_6c2a8_row2_col4\" class=\"data row2 col4\" >0.009165</td>\n",
       "    </tr>\n",
       "    <tr>\n",
       "      <th id=\"T_6c2a8_level0_row3\" class=\"row_heading level0 row3\" >suicides/100k pop</th>\n",
       "      <td id=\"T_6c2a8_row3_col0\" class=\"data row3 col0\" >-0.106052</td>\n",
       "      <td id=\"T_6c2a8_row3_col1\" class=\"data row3 col1\" >0.270322</td>\n",
       "      <td id=\"T_6c2a8_row3_col2\" class=\"data row3 col2\" >-0.049315</td>\n",
       "      <td id=\"T_6c2a8_row3_col3\" class=\"data row3 col3\" >1.000000</td>\n",
       "      <td id=\"T_6c2a8_row3_col4\" class=\"data row3 col4\" >0.002596</td>\n",
       "    </tr>\n",
       "    <tr>\n",
       "      <th id=\"T_6c2a8_level0_row4\" class=\"row_heading level0 row4\" >gdp_per_capita ($)</th>\n",
       "      <td id=\"T_6c2a8_row4_col0\" class=\"data row4 col0\" >0.307603</td>\n",
       "      <td id=\"T_6c2a8_row4_col1\" class=\"data row4 col1\" >0.060721</td>\n",
       "      <td id=\"T_6c2a8_row4_col2\" class=\"data row4 col2\" >0.009165</td>\n",
       "      <td id=\"T_6c2a8_row4_col3\" class=\"data row4 col3\" >0.002596</td>\n",
       "      <td id=\"T_6c2a8_row4_col4\" class=\"data row4 col4\" >1.000000</td>\n",
       "    </tr>\n",
       "  </tbody>\n",
       "</table>\n"
      ],
      "text/plain": [
       "<pandas.io.formats.style.Styler at 0x26d651b3ad0>"
      ]
     },
     "execution_count": 14,
     "metadata": {},
     "output_type": "execute_result"
    }
   ],
   "source": [
    "datanummeric = dataclean.select_dtypes(include=['number'])\n",
    "corr = datanummeric.corr()\n",
    "corr.style.background_gradient(cmap='coolwarm')"
   ]
  },
  {
   "cell_type": "code",
   "execution_count": 15,
   "id": "6380e98a",
   "metadata": {},
   "outputs": [
    {
     "name": "stdout",
     "output_type": "stream",
     "text": [
      "1985\n",
      "2020\n",
      "<class 'int'>\n"
     ]
    }
   ],
   "source": [
    "print(dataclean.year.min())\n",
    "print(dataclean.year.max())\n",
    "print(type(dataclean.year.min()))"
   ]
  },
  {
   "cell_type": "code",
   "execution_count": 16,
   "id": "5d937448",
   "metadata": {},
   "outputs": [
    {
     "data": {
      "text/plain": [
       "array(['15-24 years', '25-34 years', '35-54 years', '5-14 years',\n",
       "       '55-74 years', '75+ years'], dtype=object)"
      ]
     },
     "execution_count": 16,
     "metadata": {},
     "output_type": "execute_result"
    }
   ],
   "source": [
    "np.unique(dataclean['age'])"
   ]
  },
  {
   "cell_type": "code",
   "execution_count": 17,
   "id": "d354a25e",
   "metadata": {},
   "outputs": [
    {
     "data": {
      "text/plain": [
       "5298"
      ]
     },
     "execution_count": 17,
     "metadata": {},
     "output_type": "execute_result"
    }
   ],
   "source": [
    "sum(dataclean.age == '15-24 years')"
   ]
  },
  {
   "cell_type": "code",
   "execution_count": 55,
   "id": "d4f8a30d",
   "metadata": {},
   "outputs": [
    {
     "ename": "TypeError",
     "evalue": "'DataFrame' object is not callable",
     "output_type": "error",
     "traceback": [
      "\u001b[1;31m---------------------------------------------------------------------------\u001b[0m",
      "\u001b[1;31mTypeError\u001b[0m                                 Traceback (most recent call last)",
      "Cell \u001b[1;32mIn[55], line 1\u001b[0m\n\u001b[1;32m----> 1\u001b[0m \u001b[38;5;28mprint\u001b[39m(dataclean(row \u001b[38;5;241m=\u001b[39m [\u001b[38;5;124m'\u001b[39m\u001b[38;5;124m2\u001b[39m\u001b[38;5;124m'\u001b[39m])\u001b[38;5;241m.\u001b[39mage \u001b[38;5;241m==\u001b[39m \u001b[38;5;124m'\u001b[39m\u001b[38;5;124m15-24 years\u001b[39m\u001b[38;5;124m'\u001b[39m)\n",
      "\u001b[1;31mTypeError\u001b[0m: 'DataFrame' object is not callable"
     ]
    }
   ],
   "source": [
    "print(dataclean(row = ['2']).age == '15-24 years')"
   ]
  },
  {
   "cell_type": "code",
   "execution_count": 49,
   "id": "c1bcd26f",
   "metadata": {},
   "outputs": [
    {
     "ename": "KeyError",
     "evalue": "0",
     "output_type": "error",
     "traceback": [
      "\u001b[1;31m---------------------------------------------------------------------------\u001b[0m",
      "\u001b[1;31mKeyError\u001b[0m                                  Traceback (most recent call last)",
      "File \u001b[1;32m~\\anaconda3\\Lib\\site-packages\\pandas\\core\\indexes\\base.py:3653\u001b[0m, in \u001b[0;36mIndex.get_loc\u001b[1;34m(self, key)\u001b[0m\n\u001b[0;32m   3652\u001b[0m \u001b[38;5;28;01mtry\u001b[39;00m:\n\u001b[1;32m-> 3653\u001b[0m     \u001b[38;5;28;01mreturn\u001b[39;00m \u001b[38;5;28mself\u001b[39m\u001b[38;5;241m.\u001b[39m_engine\u001b[38;5;241m.\u001b[39mget_loc(casted_key)\n\u001b[0;32m   3654\u001b[0m \u001b[38;5;28;01mexcept\u001b[39;00m \u001b[38;5;167;01mKeyError\u001b[39;00m \u001b[38;5;28;01mas\u001b[39;00m err:\n",
      "File \u001b[1;32m~\\anaconda3\\Lib\\site-packages\\pandas\\_libs\\index.pyx:147\u001b[0m, in \u001b[0;36mpandas._libs.index.IndexEngine.get_loc\u001b[1;34m()\u001b[0m\n",
      "File \u001b[1;32m~\\anaconda3\\Lib\\site-packages\\pandas\\_libs\\index.pyx:176\u001b[0m, in \u001b[0;36mpandas._libs.index.IndexEngine.get_loc\u001b[1;34m()\u001b[0m\n",
      "File \u001b[1;32mpandas\\_libs\\hashtable_class_helper.pxi:7080\u001b[0m, in \u001b[0;36mpandas._libs.hashtable.PyObjectHashTable.get_item\u001b[1;34m()\u001b[0m\n",
      "File \u001b[1;32mpandas\\_libs\\hashtable_class_helper.pxi:7088\u001b[0m, in \u001b[0;36mpandas._libs.hashtable.PyObjectHashTable.get_item\u001b[1;34m()\u001b[0m\n",
      "\u001b[1;31mKeyError\u001b[0m: 0",
      "\nThe above exception was the direct cause of the following exception:\n",
      "\u001b[1;31mKeyError\u001b[0m                                  Traceback (most recent call last)",
      "Cell \u001b[1;32mIn[49], line 4\u001b[0m\n\u001b[0;32m      2\u001b[0m i \u001b[38;5;241m=\u001b[39m \u001b[38;5;241m0\u001b[39m\n\u001b[0;32m      3\u001b[0m \u001b[38;5;28;01mfor\u001b[39;00m i \u001b[38;5;129;01min\u001b[39;00m \u001b[38;5;28mrange\u001b[39m (\u001b[38;5;241m0\u001b[39m, \u001b[38;5;241m31756\u001b[39m, \u001b[38;5;241m1\u001b[39m):\n\u001b[1;32m----> 4\u001b[0m     \u001b[38;5;28;01mif\u001b[39;00m (dataclean[i]\u001b[38;5;241m.\u001b[39mage \u001b[38;5;241m==\u001b[39m \u001b[38;5;124m'\u001b[39m\u001b[38;5;124m15-24 years\u001b[39m\u001b[38;5;124m'\u001b[39m):\n\u001b[0;32m      5\u001b[0m         summe \u001b[38;5;241m=\u001b[39m summe \u001b[38;5;241m+\u001b[39m dataclean[i]\u001b[38;5;241m.\u001b[39msuicides_no\n\u001b[0;32m      6\u001b[0m \u001b[38;5;28mprint\u001b[39m(summe)\n",
      "File \u001b[1;32m~\\anaconda3\\Lib\\site-packages\\pandas\\core\\frame.py:3761\u001b[0m, in \u001b[0;36mDataFrame.__getitem__\u001b[1;34m(self, key)\u001b[0m\n\u001b[0;32m   3759\u001b[0m \u001b[38;5;28;01mif\u001b[39;00m \u001b[38;5;28mself\u001b[39m\u001b[38;5;241m.\u001b[39mcolumns\u001b[38;5;241m.\u001b[39mnlevels \u001b[38;5;241m>\u001b[39m \u001b[38;5;241m1\u001b[39m:\n\u001b[0;32m   3760\u001b[0m     \u001b[38;5;28;01mreturn\u001b[39;00m \u001b[38;5;28mself\u001b[39m\u001b[38;5;241m.\u001b[39m_getitem_multilevel(key)\n\u001b[1;32m-> 3761\u001b[0m indexer \u001b[38;5;241m=\u001b[39m \u001b[38;5;28mself\u001b[39m\u001b[38;5;241m.\u001b[39mcolumns\u001b[38;5;241m.\u001b[39mget_loc(key)\n\u001b[0;32m   3762\u001b[0m \u001b[38;5;28;01mif\u001b[39;00m is_integer(indexer):\n\u001b[0;32m   3763\u001b[0m     indexer \u001b[38;5;241m=\u001b[39m [indexer]\n",
      "File \u001b[1;32m~\\anaconda3\\Lib\\site-packages\\pandas\\core\\indexes\\base.py:3655\u001b[0m, in \u001b[0;36mIndex.get_loc\u001b[1;34m(self, key)\u001b[0m\n\u001b[0;32m   3653\u001b[0m     \u001b[38;5;28;01mreturn\u001b[39;00m \u001b[38;5;28mself\u001b[39m\u001b[38;5;241m.\u001b[39m_engine\u001b[38;5;241m.\u001b[39mget_loc(casted_key)\n\u001b[0;32m   3654\u001b[0m \u001b[38;5;28;01mexcept\u001b[39;00m \u001b[38;5;167;01mKeyError\u001b[39;00m \u001b[38;5;28;01mas\u001b[39;00m err:\n\u001b[1;32m-> 3655\u001b[0m     \u001b[38;5;28;01mraise\u001b[39;00m \u001b[38;5;167;01mKeyError\u001b[39;00m(key) \u001b[38;5;28;01mfrom\u001b[39;00m \u001b[38;5;21;01merr\u001b[39;00m\n\u001b[0;32m   3656\u001b[0m \u001b[38;5;28;01mexcept\u001b[39;00m \u001b[38;5;167;01mTypeError\u001b[39;00m:\n\u001b[0;32m   3657\u001b[0m     \u001b[38;5;66;03m# If we have a listlike key, _check_indexing_error will raise\u001b[39;00m\n\u001b[0;32m   3658\u001b[0m     \u001b[38;5;66;03m#  InvalidIndexError. Otherwise we fall through and re-raise\u001b[39;00m\n\u001b[0;32m   3659\u001b[0m     \u001b[38;5;66;03m#  the TypeError.\u001b[39;00m\n\u001b[0;32m   3660\u001b[0m     \u001b[38;5;28mself\u001b[39m\u001b[38;5;241m.\u001b[39m_check_indexing_error(key)\n",
      "\u001b[1;31mKeyError\u001b[0m: 0"
     ]
    }
   ],
   "source": [
    "summe = 0\n",
    "i = 0\n",
    "for i in range (0, 31756, 1):\n",
    "    if (dataclean[i].age == '15-24 years'):\n",
    "        summe = summe + dataclean[i].suicides_no\n",
    "print(summe)"
   ]
  },
  {
   "cell_type": "code",
   "execution_count": null,
   "id": "c16fd921",
   "metadata": {},
   "outputs": [],
   "source": []
  }
 ],
 "metadata": {
  "kernelspec": {
   "display_name": "Python 3 (ipykernel)",
   "language": "python",
   "name": "python3"
  },
  "language_info": {
   "codemirror_mode": {
    "name": "ipython",
    "version": 3
   },
   "file_extension": ".py",
   "mimetype": "text/x-python",
   "name": "python",
   "nbconvert_exporter": "python",
   "pygments_lexer": "ipython3",
   "version": "3.11.5"
  }
 },
 "nbformat": 4,
 "nbformat_minor": 5
}
